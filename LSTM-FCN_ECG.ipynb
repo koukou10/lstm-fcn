{
  "nbformat": 4,
  "nbformat_minor": 0,
  "metadata": {
    "colab": {
      "name": "POC_final.ipynb",
      "provenance": [],
      "collapsed_sections": []
    },
    "kernelspec": {
      "name": "python3",
      "display_name": "Python 3"
    },
    "accelerator": "GPU"
  },
  "cells": [
    {
      "cell_type": "code",
      "metadata": {
        "id": "WDk5SKL1FNaM",
        "colab_type": "code",
        "outputId": "a10e1729-414e-4594-91c3-b37458633efb",
        "colab": {
          "base_uri": "https://localhost:8080/",
          "height": 732
        }
      },
      "source": [
        "!wget https://www.dropbox.com/s/d1goa2s1shywx8p/TwoLeadECG_TRAIN?dl=0\n",
        "!wget https://www.dropbox.com/s/sc2a31hozje0cpg/TwoLeadECG_TEST?dl=0"
      ],
      "execution_count": 1,
      "outputs": [
        {
          "output_type": "stream",
          "text": [
            "--2020-03-02 21:14:40--  https://www.dropbox.com/s/d1goa2s1shywx8p/TwoLeadECG_TRAIN?dl=0\n",
            "Resolving www.dropbox.com (www.dropbox.com)... 162.125.1.1, 2620:100:601b:1::a27d:801\n",
            "Connecting to www.dropbox.com (www.dropbox.com)|162.125.1.1|:443... connected.\n",
            "HTTP request sent, awaiting response... 301 Moved Permanently\n",
            "Location: /s/raw/2av4nr10v4m2vqi/TwoLeadECG_TRAIN [following]\n",
            "--2020-03-02 21:14:40--  https://www.dropbox.com/s/raw/2av4nr10v4m2vqi/TwoLeadECG_TRAIN\n",
            "Reusing existing connection to www.dropbox.com:443.\n",
            "HTTP request sent, awaiting response... 302 Found\n",
            "Location: https://uc7bfd898908ad1f44330bc831bf.dl.dropboxusercontent.com/cd/0/inline/AzKoQoBxNYD67FM5PPL9SNRQg0KfMNVU5Pb6sHozIAq4lSNh02hq-9kE-j2zx3MwupLDrVxEhpeN2WzHW4WzX-m4AKK53Vafb18nwchEthmIYQDH3WIBDLhWXfLowhQwDLg/file# [following]\n",
            "--2020-03-02 21:14:40--  https://uc7bfd898908ad1f44330bc831bf.dl.dropboxusercontent.com/cd/0/inline/AzKoQoBxNYD67FM5PPL9SNRQg0KfMNVU5Pb6sHozIAq4lSNh02hq-9kE-j2zx3MwupLDrVxEhpeN2WzHW4WzX-m4AKK53Vafb18nwchEthmIYQDH3WIBDLhWXfLowhQwDLg/file\n",
            "Resolving uc7bfd898908ad1f44330bc831bf.dl.dropboxusercontent.com (uc7bfd898908ad1f44330bc831bf.dl.dropboxusercontent.com)... 162.125.8.6, 2620:100:6016:6::a27d:106\n",
            "Connecting to uc7bfd898908ad1f44330bc831bf.dl.dropboxusercontent.com (uc7bfd898908ad1f44330bc831bf.dl.dropboxusercontent.com)|162.125.8.6|:443... connected.\n",
            "HTTP request sent, awaiting response... 200 OK\n",
            "Length: 15515 (15K) [text/plain]\n",
            "Saving to: ‘TwoLeadECG_TRAIN?dl=0’\n",
            "\n",
            "TwoLeadECG_TRAIN?dl 100%[===================>]  15.15K  --.-KB/s    in 0s      \n",
            "\n",
            "2020-03-02 21:14:41 (347 MB/s) - ‘TwoLeadECG_TRAIN?dl=0’ saved [15515/15515]\n",
            "\n",
            "--2020-03-02 21:14:42--  https://www.dropbox.com/s/sc2a31hozje0cpg/TwoLeadECG_TEST?dl=0\n",
            "Resolving www.dropbox.com (www.dropbox.com)... 162.125.1.1, 2620:100:6016:1::a27d:101\n",
            "Connecting to www.dropbox.com (www.dropbox.com)|162.125.1.1|:443... connected.\n",
            "HTTP request sent, awaiting response... 301 Moved Permanently\n",
            "Location: /s/raw/6f9s6x6gp63l88p/TwoLeadECG_TEST [following]\n",
            "--2020-03-02 21:14:42--  https://www.dropbox.com/s/raw/6f9s6x6gp63l88p/TwoLeadECG_TEST\n",
            "Reusing existing connection to www.dropbox.com:443.\n",
            "HTTP request sent, awaiting response... 302 Found\n",
            "Location: https://uc7f7e2dc4c3c1a124824a743748.dl.dropboxusercontent.com/cd/0/inline/AzJAaGd3cLYwL2p8a8vBG0kPywhhJ37gQHSnbdroTf-tslStqXSYT71KzS-eHSvlu_11oAxJCVDAO-ASayymKge7w5U226lm0cqDHe5YtjIgRincW0iOQEw8USkp5dOODYI/file# [following]\n",
            "--2020-03-02 21:14:42--  https://uc7f7e2dc4c3c1a124824a743748.dl.dropboxusercontent.com/cd/0/inline/AzJAaGd3cLYwL2p8a8vBG0kPywhhJ37gQHSnbdroTf-tslStqXSYT71KzS-eHSvlu_11oAxJCVDAO-ASayymKge7w5U226lm0cqDHe5YtjIgRincW0iOQEw8USkp5dOODYI/file\n",
            "Resolving uc7f7e2dc4c3c1a124824a743748.dl.dropboxusercontent.com (uc7f7e2dc4c3c1a124824a743748.dl.dropboxusercontent.com)... 162.125.8.6, 2620:100:6016:6::a27d:106\n",
            "Connecting to uc7f7e2dc4c3c1a124824a743748.dl.dropboxusercontent.com (uc7f7e2dc4c3c1a124824a743748.dl.dropboxusercontent.com)|162.125.8.6|:443... connected.\n",
            "HTTP request sent, awaiting response... 200 OK\n",
            "Length: 770430 (752K) [text/plain]\n",
            "Saving to: ‘TwoLeadECG_TEST?dl=0’\n",
            "\n",
            "TwoLeadECG_TEST?dl= 100%[===================>] 752.37K  3.52MB/s    in 0.2s    \n",
            "\n",
            "2020-03-02 21:14:43 (3.52 MB/s) - ‘TwoLeadECG_TEST?dl=0’ saved [770430/770430]\n",
            "\n"
          ],
          "name": "stdout"
        }
      ]
    },
    {
      "cell_type": "code",
      "metadata": {
        "id": "l6WlfwIyw6Wk",
        "colab_type": "code",
        "outputId": "768f5c2f-176b-4f19-be93-47870f603a8e",
        "colab": {
          "base_uri": "https://localhost:8080/",
          "height": 228
        }
      },
      "source": [
        "!pip install dtw\n",
        "import warnings\n",
        "warnings.filterwarnings(\"ignore\")\n",
        "\n",
        "import dtw\n",
        "import pandas as pd\n",
        "import numpy as np\n",
        "import random\n",
        "from matplotlib import pyplot as plt\n",
        "from sklearn.neighbors import KNeighborsClassifier"
      ],
      "execution_count": 2,
      "outputs": [
        {
          "output_type": "stream",
          "text": [
            "Collecting dtw\n",
            "  Downloading https://files.pythonhosted.org/packages/66/a0/21d6ec377b8d5832218700e236205f8cdea38b3b2cdd0a732be170e2809b/dtw-1.4.0.tar.gz\n",
            "Requirement already satisfied: numpy in /usr/local/lib/python3.6/dist-packages (from dtw) (1.17.5)\n",
            "Requirement already satisfied: scipy in /usr/local/lib/python3.6/dist-packages (from dtw) (1.4.1)\n",
            "Building wheels for collected packages: dtw\n",
            "  Building wheel for dtw (setup.py) ... \u001b[?25l\u001b[?25hdone\n",
            "  Created wheel for dtw: filename=dtw-1.4.0-cp36-none-any.whl size=5315 sha256=236505f0fbb8d9aefd62e7e0b57e99ed4d1a9736baa89b9fb1390caa269c981d\n",
            "  Stored in directory: /root/.cache/pip/wheels/8c/8b/7a/947d67b53cd54948890a173527b0470ef56998812fc9d0a803\n",
            "Successfully built dtw\n",
            "Installing collected packages: dtw\n",
            "Successfully installed dtw-1.4.0\n"
          ],
          "name": "stdout"
        }
      ]
    },
    {
      "cell_type": "code",
      "metadata": {
        "id": "qm6spCM5yGYY",
        "colab_type": "code",
        "colab": {}
      },
      "source": [
        "def get_data(data_name):\n",
        "    '''Importing data\n",
        "\n",
        "    Parameter:\n",
        "        data _name: \n",
        "\n",
        "    Return：\n",
        "        train_series， train_series_labels， test_series， test_series_labels\n",
        "    '''\n",
        "    train = pd.read_csv(data_name + '_TRAIN?dl=0', header=None) \n",
        "    train = train.rename(columns={0:'Type'})   \n",
        "    train = train.values[:, :]\n",
        "    train_series = train[:, 1:]\n",
        "    train_series_labels = train[:, 0]\n",
        "\n",
        "    test = pd.read_csv(data_name + '_TEST?dl=0', header=None)\n",
        "    test = test.rename(columns={0:'Type'}) \n",
        "    test = test.values[:, :]\n",
        "    test_series = test[:, 1:]\n",
        "    test_series_labels = test[:, 0]  \n",
        "    \n",
        "    return train_series, train_series_labels, test_series, test_series_labels"
      ],
      "execution_count": 0,
      "outputs": []
    },
    {
      "cell_type": "code",
      "metadata": {
        "id": "ZjeIBneSjo10",
        "colab_type": "code",
        "colab": {}
      },
      "source": [
        "train_series, train_series_labels, test_series, test_series_labels = get_data('TwoLeadECG')"
      ],
      "execution_count": 0,
      "outputs": []
    },
    {
      "cell_type": "code",
      "metadata": {
        "id": "DkzM5UVVYzXR",
        "colab_type": "code",
        "colab": {}
      },
      "source": [
        "# One hot encoding\n",
        "\n",
        "y_train1 = []\n",
        "y_train2 = []\n",
        "y_test1 = []\n",
        "y_test2 = []\n",
        "\n",
        "for train in train_series_labels:\n",
        "    if train == 1:\n",
        "        y_train1.append(1)\n",
        "        y_train2.append(0)\n",
        "    \n",
        "    else:\n",
        "        y_train1.append(0)\n",
        "        y_train2.append(1)\n",
        "\n",
        "\n",
        "for test in test_series_labels:\n",
        "    if test == 1:\n",
        "        y_test1.append(1)\n",
        "        y_test2.append(0)\n",
        "    \n",
        "    else:\n",
        "        y_test1.append(0)\n",
        "        y_test2.append(1)\n",
        "\n",
        "y_test = np.array([y_test1, y_test2]).transpose()\n",
        "y_train = np.array([y_train1, y_train2]).transpose()"
      ],
      "execution_count": 0,
      "outputs": []
    },
    {
      "cell_type": "code",
      "metadata": {
        "id": "b5I-8zmOQ8td",
        "colab_type": "code",
        "outputId": "5a5c13f0-b7a0-4d99-874d-5287b8dfc19b",
        "colab": {
          "base_uri": "https://localhost:8080/",
          "height": 173
        }
      },
      "source": [
        "print(train_series[:20])\n",
        "print('-----------------')\n",
        "print(train_series.shape)"
      ],
      "execution_count": 6,
      "outputs": [
        {
          "output_type": "stream",
          "text": [
            "[[ 0.68835    0.61723    0.61723   ...  0.1431     0.16681    0.1431   ]\n",
            " [-0.11165   -0.036505  -0.074079  ...  0.063693   0.0010692 -0.011456 ]\n",
            " [-0.49172   -0.45549   -0.45549   ...  0.39585    0.41396    0.43208  ]\n",
            " ...\n",
            " [ 0.37854    0.37854    0.40218   ... -0.1652    -0.2834    -0.30704  ]\n",
            " [-0.13885   -0.11908   -0.059783  ...  0.11812    0.078586   0.078586 ]\n",
            " [ 0.12505    0.11151    0.11151   ...  0.35534    0.19279    0.1386   ]]\n",
            "-----------------\n",
            "(23, 82)\n"
          ],
          "name": "stdout"
        }
      ]
    },
    {
      "cell_type": "code",
      "metadata": {
        "id": "Ur4xoVS7Gjpo",
        "colab_type": "code",
        "colab": {
          "base_uri": "https://localhost:8080/",
          "height": 173
        },
        "outputId": "82bb3945-b111-4e2c-f0e7-0bf392408c84"
      },
      "source": [
        "print(test_series[:20])\n",
        "print('-----------------')\n",
        "print(test_series.shape)"
      ],
      "execution_count": 7,
      "outputs": [
        {
          "output_type": "stream",
          "text": [
            "[[ 0.36808   0.38737   0.38737  ... -0.19121  -0.2105   -0.30693 ]\n",
            " [-0.04334  -0.02392  -0.04334  ...  0.05376   0.07318   0.03434 ]\n",
            " [-0.058386 -0.027794 -0.073682 ...  0.048686  0.048686  0.002798]\n",
            " ...\n",
            " [ 0.089657  0.10733   0.10733  ... -0.034053 -0.034053 -0.087071]\n",
            " [ 0.93163   0.094486  0.094486 ...  0.10861   0.080366 -0.074955]\n",
            " [-0.029382  0.010442 -0.049295 ...  0.24939   0.18965   0.16974 ]]\n",
            "-----------------\n",
            "(1139, 82)\n"
          ],
          "name": "stdout"
        }
      ]
    },
    {
      "cell_type": "code",
      "metadata": {
        "id": "RrikodouUqFZ",
        "colab_type": "code",
        "outputId": "5b41cbfd-c75b-4f5f-b24d-c8786632ed35",
        "colab": {
          "base_uri": "https://localhost:8080/",
          "height": 273
        }
      },
      "source": [
        "# Plot the time-series of the 2 categories\n",
        "\n",
        "ecg_1 = []\n",
        "ecg_2 = []\n",
        "\n",
        "for type_ecg, ecg in zip(test_series_labels, train_series):\n",
        "    if type_ecg==1:\n",
        "        ecg_1.append(ecg)\n",
        "    else:\n",
        "        ecg_2.append(ecg)\n",
        "\n",
        "ax1 = plt.subplot(211)\n",
        "plt.title('Two types of ECG', size=20, color='r')\n",
        "\n",
        "for graph in ecg_1:\n",
        "    plt.plot(graph)\n",
        "\n",
        "plt.setp(ax1.get_xticklabels(), fontsize=12)\n",
        "\n",
        "ax2 = plt.subplot(212)\n",
        "\n",
        "for graph in ecg_2:\n",
        "    plt.plot(graph)\n",
        "\n",
        "# make these tick labels invisible\n",
        "plt.setp(ax2.get_xticklabels(), visible=False)\n",
        "\n",
        "plt.show()"
      ],
      "execution_count": 8,
      "outputs": [
        {
          "output_type": "display_data",
          "data": {
            "image/png": "[encoded data removed]",
            "text/plain": [
              "<Figure size 432x288 with 2 Axes>"
            ]
          },
          "metadata": {
            "tags": []
          }
        }
      ]
    },
    {
      "cell_type": "markdown",
      "metadata": {
        "id": "nooJux1q0QAR",
        "colab_type": "text"
      },
      "source": [
        "# Baseline with KNN"
      ]
    },
    {
      "cell_type": "code",
      "metadata": {
        "id": "jCSdp5kZ0Ohe",
        "colab_type": "code",
        "colab": {}
      },
      "source": [
        "# Creating our K-nearest neighbor metric for time-series\n",
        "\n",
        "class K_nearest_neighbor():\n",
        "    \n",
        "    K = 1\n",
        "    train_series = [] \n",
        "    train_series_labels = [] \n",
        "    dist_lambda = lambda x, y: np.abs(x - y) #L1 norm as the element comparison distance\n",
        "    \n",
        "    def __init__(self, train_series, train_series_labels, K=1,  dist_lambda=lambda x, y: np.abs(x - y)):\n",
        "        \n",
        "        self.K = K\n",
        "        self.train_series = train_series\n",
        "        self.train_series_labels = train_series_labels\n",
        "        self.dist_lambda = dist_lambda\n",
        "    \n",
        "    \n",
        "    def predict(self, test_series):\n",
        "        \n",
        "        predict_labels = [] \n",
        "        \n",
        "        for test_series_signal in test_series:\n",
        "            t_dis = []\n",
        "            \n",
        "            for train_series_signal in train_series:\n",
        "                #DTW calculate sequence similarity\n",
        "                dis, cost_matrix, acc_cost_matrix, path = dtw.accelerated_dtw(test_series_signal.reshape(-1,1),\n",
        "                                                                              train_series_signal.reshape(-1,1),\n",
        "                                                                              dist=self.dist_lambda)\n",
        "                t_dis.append(dis)\n",
        "\n",
        "            nearest_series_labels = np.array(train_series_labels[np.argsort(t_dis)[:self.K]]).astype(int)\n",
        "    \n",
        "            preditc_labels_signal = np.argmax(np.bincount(nearest_series_labels))\n",
        "            predict_labels.append(preditc_labels_signal)\n",
        "            \n",
        "        return predict_labels"
      ],
      "execution_count": 0,
      "outputs": []
    },
    {
      "cell_type": "code",
      "metadata": {
        "id": "42sLEOq42Hs6",
        "colab_type": "code",
        "outputId": "32b9edd8-3437-49fa-e4e6-3bdd4bca5aa3",
        "colab": {
          "base_uri": "https://localhost:8080/",
          "height": 469
        }
      },
      "source": [
        "accuracies = [] \n",
        "train_series, train_series_labels, test_series, test_series_labels = get_data('TwoLeadECG') \n",
        "\n",
        "for k in range(1, 10):\n",
        "    my_knn = K_nearest_neighbor(train_series=train_series, \n",
        "                                   train_series_labels=train_series_labels, \n",
        "                                   K=k)\n",
        "\n",
        "    predict_labels = my_knn.predict(test_series)\n",
        "        \n",
        "    accuracy = np.mean(np.array(predict_labels) == test_series_labels)\n",
        "    accuracies.append(accuracy)\n",
        "    print('TwoLeadECG', k, accuracy)\n",
        "\n",
        "print(\"-----------------------------------------------------\")\n",
        "\n",
        "plt.plot([k for k in range(1, 10)], accuracies)\n",
        "plt.title('Accuracy of the model depending on k')\n",
        "plt.ylabel('accuracy')\n",
        "plt.xlabel('k')\n",
        "plt.show()"
      ],
      "execution_count": 10,
      "outputs": [
        {
          "output_type": "stream",
          "text": [
            "TwoLeadECG 1 0.9306409130816505\n",
            "TwoLeadECG 2 0.8217734855136084\n",
            "TwoLeadECG 3 0.8577699736611062\n",
            "TwoLeadECG 4 0.7664618086040387\n",
            "TwoLeadECG 5 0.8244073748902546\n",
            "TwoLeadECG 6 0.7129060579455663\n",
            "TwoLeadECG 7 0.7471466198419666\n",
            "TwoLeadECG 8 0.684811237928007\n",
            "TwoLeadECG 9 0.7006145741878841\n",
            "-----------------------------------------------------\n"
          ],
          "name": "stdout"
        },
        {
          "output_type": "display_data",
          "data": {
            "image/png": "[encoded data removed]",
            "text/plain": [
              "<Figure size 432x288 with 1 Axes>"
            ]
          },
          "metadata": {
            "tags": []
          }
        }
      ]
    },
    {
      "cell_type": "markdown",
      "metadata": {
        "id": "l4rt7Pw1o1t_",
        "colab_type": "text"
      },
      "source": [
        "# LSTM-FCN model"
      ]
    },
    {
      "cell_type": "code",
      "metadata": {
        "id": "s5og00rdo1ON",
        "colab_type": "code",
        "outputId": "e05e8628-dfcc-439c-cdc9-29e5ba22bce6",
        "colab": {
          "base_uri": "https://localhost:8080/",
          "height": 81
        }
      },
      "source": [
        "from keras.layers import Conv1D, BatchNormalization, GlobalAveragePooling1D, Permute, Dropout\n",
        "from keras.layers import Input, Dense, LSTM, concatenate, Activation\n",
        "from keras.models import Model, load_model\n",
        "from keras.callbacks import ModelCheckpoint\n",
        "from keras.optimizers import Adam\n",
        "from keras.utils import to_categorical"
      ],
      "execution_count": 11,
      "outputs": [
        {
          "output_type": "stream",
          "text": [
            "Using TensorFlow backend.\n"
          ],
          "name": "stderr"
        },
        {
          "output_type": "display_data",
          "data": {
            "text/html": [
              "<p style=\"color: red;\">\n",
              "The default version of TensorFlow in Colab will soon switch to TensorFlow 2.x.<br>\n",
              "We recommend you <a href=\"https://www.tensorflow.org/guide/migrate\" target=\"_blank\">upgrade</a> now \n",
              "or ensure your notebook will continue to use TensorFlow 1.x via the <code>%tensorflow_version 1.x</code> magic:\n",
              "<a href=\"https://colab.research.google.com/notebooks/tensorflow_version.ipynb\" target=\"_blank\">more info</a>.</p>\n"
            ],
            "text/plain": [
              "<IPython.core.display.HTML object>"
            ]
          },
          "metadata": {
            "tags": []
          }
        }
      ]
    },
    {
      "cell_type": "code",
      "metadata": {
        "id": "-TUDm0sySXTh",
        "colab_type": "code",
        "colab": {}
      },
      "source": [
        "def generate_lstmfcn(MAX_SEQUENCE_LENGTH=82, NB_CLASS=2, NUM_CELLS=8):\n",
        "\n",
        "    ip = Input(shape=(1, MAX_SEQUENCE_LENGTH)) # tensor\n",
        "\n",
        "    x = LSTM(NUM_CELLS)(ip)\n",
        "    x = Dropout(0.8)(x)\n",
        "\n",
        "    y = Permute((2, 1))(ip) # permutes the first and second dimension of the input (connecting RNNs and convnets together)\n",
        "    y = Conv1D(128, 8, padding='same', kernel_initializer='he_uniform')(y) # for temporal convolution\n",
        "    y = BatchNormalization()(y)\n",
        "    y = Activation('relu')(y)\n",
        "\n",
        "    y = Conv1D(256, 5, padding='same', kernel_initializer='he_uniform')(y)\n",
        "    y = BatchNormalization()(y)\n",
        "    y = Activation('relu')(y)\n",
        "\n",
        "    y = Conv1D(128, 3, padding='same', kernel_initializer='he_uniform')(y)\n",
        "    y = BatchNormalization()(y)\n",
        "    y = Activation('relu')(y)\n",
        "\n",
        "    y = GlobalAveragePooling1D()(y)\n",
        "    x = concatenate([x, y])\n",
        "\n",
        "    out = Dense(NB_CLASS, activation='softmax')(x)\n",
        "\n",
        "    model = Model(ip, out)\n",
        "    model.summary()\n",
        "\n",
        "    return model"
      ],
      "execution_count": 0,
      "outputs": []
    },
    {
      "cell_type": "code",
      "metadata": {
        "id": "zAH4KP6B8Uo7",
        "colab_type": "code",
        "outputId": "50039158-98b1-4996-e7a9-7b60e2f1060f",
        "colab": {
          "base_uri": "https://localhost:8080/",
          "height": 957
        }
      },
      "source": [
        "model = generate_lstmfcn()"
      ],
      "execution_count": 13,
      "outputs": [
        {
          "output_type": "stream",
          "text": [
            "WARNING:tensorflow:From /usr/local/lib/python3.6/dist-packages/keras/backend/tensorflow_backend.py:66: The name tf.get_default_graph is deprecated. Please use tf.compat.v1.get_default_graph instead.\n",
            "\n",
            "WARNING:tensorflow:From /usr/local/lib/python3.6/dist-packages/keras/backend/tensorflow_backend.py:541: The name tf.placeholder is deprecated. Please use tf.compat.v1.placeholder instead.\n",
            "\n",
            "WARNING:tensorflow:From /usr/local/lib/python3.6/dist-packages/keras/backend/tensorflow_backend.py:4432: The name tf.random_uniform is deprecated. Please use tf.random.uniform instead.\n",
            "\n",
            "WARNING:tensorflow:From /usr/local/lib/python3.6/dist-packages/keras/backend/tensorflow_backend.py:148: The name tf.placeholder_with_default is deprecated. Please use tf.compat.v1.placeholder_with_default instead.\n",
            "\n",
            "WARNING:tensorflow:From /usr/local/lib/python3.6/dist-packages/keras/backend/tensorflow_backend.py:3733: calling dropout (from tensorflow.python.ops.nn_ops) with keep_prob is deprecated and will be removed in a future version.\n",
            "Instructions for updating:\n",
            "Please use `rate` instead of `keep_prob`. Rate should be set to `rate = 1 - keep_prob`.\n",
            "WARNING:tensorflow:Large dropout rate: 0.8 (>0.5). In TensorFlow 2.x, dropout() uses dropout rate instead of keep_prob. Please ensure that this is intended.\n",
            "Model: \"model_1\"\n",
            "__________________________________________________________________________________________________\n",
            "Layer (type)                    Output Shape         Param #     Connected to                     \n",
            "==================================================================================================\n",
            "input_1 (InputLayer)            (None, 1, 82)        0                                            \n",
            "__________________________________________________________________________________________________\n",
            "permute_1 (Permute)             (None, 82, 1)        0           input_1[0][0]                    \n",
            "__________________________________________________________________________________________________\n",
            "conv1d_1 (Conv1D)               (None, 82, 128)      1152        permute_1[0][0]                  \n",
            "__________________________________________________________________________________________________\n",
            "batch_normalization_1 (BatchNor (None, 82, 128)      512         conv1d_1[0][0]                   \n",
            "__________________________________________________________________________________________________\n",
            "activation_1 (Activation)       (None, 82, 128)      0           batch_normalization_1[0][0]      \n",
            "__________________________________________________________________________________________________\n",
            "conv1d_2 (Conv1D)               (None, 82, 256)      164096      activation_1[0][0]               \n",
            "__________________________________________________________________________________________________\n",
            "batch_normalization_2 (BatchNor (None, 82, 256)      1024        conv1d_2[0][0]                   \n",
            "__________________________________________________________________________________________________\n",
            "activation_2 (Activation)       (None, 82, 256)      0           batch_normalization_2[0][0]      \n",
            "__________________________________________________________________________________________________\n",
            "conv1d_3 (Conv1D)               (None, 82, 128)      98432       activation_2[0][0]               \n",
            "__________________________________________________________________________________________________\n",
            "batch_normalization_3 (BatchNor (None, 82, 128)      512         conv1d_3[0][0]                   \n",
            "__________________________________________________________________________________________________\n",
            "lstm_1 (LSTM)                   (None, 8)            2912        input_1[0][0]                    \n",
            "__________________________________________________________________________________________________\n",
            "activation_3 (Activation)       (None, 82, 128)      0           batch_normalization_3[0][0]      \n",
            "__________________________________________________________________________________________________\n",
            "dropout_1 (Dropout)             (None, 8)            0           lstm_1[0][0]                     \n",
            "__________________________________________________________________________________________________\n",
            "global_average_pooling1d_1 (Glo (None, 128)          0           activation_3[0][0]               \n",
            "__________________________________________________________________________________________________\n",
            "concatenate_1 (Concatenate)     (None, 136)          0           dropout_1[0][0]                  \n",
            "                                                                 global_average_pooling1d_1[0][0] \n",
            "__________________________________________________________________________________________________\n",
            "dense_1 (Dense)                 (None, 2)            274         concatenate_1[0][0]              \n",
            "==================================================================================================\n",
            "Total params: 268,914\n",
            "Trainable params: 267,890\n",
            "Non-trainable params: 1,024\n",
            "__________________________________________________________________________________________________\n"
          ],
          "name": "stdout"
        }
      ]
    },
    {
      "cell_type": "code",
      "metadata": {
        "id": "gva0WBO6X2Fk",
        "colab_type": "code",
        "outputId": "bf64498a-49e7-4c7a-a668-9b3b26ed3e20",
        "colab": {
          "base_uri": "https://localhost:8080/",
          "height": 1000
        }
      },
      "source": [
        "# Create the tensors\n",
        "X_train = np.reshape(train_series, (train_series.shape[0], 1, train_series.shape[1]))\n",
        "X_test = np.reshape(test_series, (test_series.shape[0], 1, test_series.shape[1]))\n",
        "\n",
        "adam = Adam(lr=1e-3)\n",
        "chk = ModelCheckpoint('best_model.pkl', monitor='val_acc', save_best_only=True, mode='auto', verbose=1)\n",
        "model.compile(loss='binary_crossentropy', optimizer=adam, metrics=['accuracy'])\n",
        "history = model.fit(X_train, y_train, epochs=50, batch_size=128, callbacks=[chk],\n",
        "          validation_data=(X_test,y_test))"
      ],
      "execution_count": 14,
      "outputs": [
        {
          "output_type": "stream",
          "text": [
            "WARNING:tensorflow:From /usr/local/lib/python3.6/dist-packages/keras/optimizers.py:793: The name tf.train.Optimizer is deprecated. Please use tf.compat.v1.train.Optimizer instead.\n",
            "\n",
            "WARNING:tensorflow:From /usr/local/lib/python3.6/dist-packages/keras/backend/tensorflow_backend.py:3657: The name tf.log is deprecated. Please use tf.math.log instead.\n",
            "\n",
            "WARNING:tensorflow:From /usr/local/lib/python3.6/dist-packages/tensorflow_core/python/ops/nn_impl.py:183: where (from tensorflow.python.ops.array_ops) is deprecated and will be removed in a future version.\n",
            "Instructions for updating:\n",
            "Use tf.where in 2.0, which has the same broadcast rule as np.where\n",
            "WARNING:tensorflow:From /usr/local/lib/python3.6/dist-packages/keras/backend/tensorflow_backend.py:1033: The name tf.assign_add is deprecated. Please use tf.compat.v1.assign_add instead.\n",
            "\n",
            "WARNING:tensorflow:From /usr/local/lib/python3.6/dist-packages/keras/backend/tensorflow_backend.py:1020: The name tf.assign is deprecated. Please use tf.compat.v1.assign instead.\n",
            "\n",
            "WARNING:tensorflow:From /usr/local/lib/python3.6/dist-packages/keras/backend/tensorflow_backend.py:3005: The name tf.Session is deprecated. Please use tf.compat.v1.Session instead.\n",
            "\n",
            "Train on 23 samples, validate on 1139 samples\n",
            "Epoch 1/50\n",
            "WARNING:tensorflow:From /usr/local/lib/python3.6/dist-packages/keras/backend/tensorflow_backend.py:190: The name tf.get_default_session is deprecated. Please use tf.compat.v1.get_default_session instead.\n",
            "\n",
            "WARNING:tensorflow:From /usr/local/lib/python3.6/dist-packages/keras/backend/tensorflow_backend.py:197: The name tf.ConfigProto is deprecated. Please use tf.compat.v1.ConfigProto instead.\n",
            "\n",
            "WARNING:tensorflow:From /usr/local/lib/python3.6/dist-packages/keras/backend/tensorflow_backend.py:207: The name tf.global_variables is deprecated. Please use tf.compat.v1.global_variables instead.\n",
            "\n",
            "WARNING:tensorflow:From /usr/local/lib/python3.6/dist-packages/keras/backend/tensorflow_backend.py:216: The name tf.is_variable_initialized is deprecated. Please use tf.compat.v1.is_variable_initialized instead.\n",
            "\n",
            "WARNING:tensorflow:From /usr/local/lib/python3.6/dist-packages/keras/backend/tensorflow_backend.py:223: The name tf.variables_initializer is deprecated. Please use tf.compat.v1.variables_initializer instead.\n",
            "\n",
            "23/23 [==============================] - 16s 708ms/step - loss: 0.7387 - acc: 0.4783 - val_loss: 0.6233 - val_acc: 0.7366\n",
            "\n",
            "Epoch 00001: val_acc improved from -inf to 0.73661, saving model to best_model.pkl\n",
            "Epoch 2/50\n",
            "23/23 [==============================] - 0s 3ms/step - loss: 0.6093 - acc: 0.6522 - val_loss: 0.6452 - val_acc: 0.5795\n",
            "\n",
            "Epoch 00002: val_acc did not improve from 0.73661\n",
            "Epoch 3/50\n",
            "23/23 [==============================] - 0s 3ms/step - loss: 0.5561 - acc: 0.7826 - val_loss: 0.6584 - val_acc: 0.5487\n",
            "\n",
            "Epoch 00003: val_acc did not improve from 0.73661\n",
            "Epoch 4/50\n",
            "23/23 [==============================] - 0s 3ms/step - loss: 0.5242 - acc: 0.7826 - val_loss: 0.6554 - val_acc: 0.5426\n",
            "\n",
            "Epoch 00004: val_acc did not improve from 0.73661\n",
            "Epoch 5/50\n",
            "23/23 [==============================] - 0s 3ms/step - loss: 0.4973 - acc: 0.9130 - val_loss: 0.5993 - val_acc: 0.5786\n",
            "\n",
            "Epoch 00005: val_acc did not improve from 0.73661\n",
            "Epoch 6/50\n",
            "23/23 [==============================] - 0s 3ms/step - loss: 0.4840 - acc: 0.8261 - val_loss: 0.5316 - val_acc: 0.6795\n",
            "\n",
            "Epoch 00006: val_acc did not improve from 0.73661\n",
            "Epoch 7/50\n",
            "23/23 [==============================] - 0s 3ms/step - loss: 0.4505 - acc: 0.7826 - val_loss: 0.4940 - val_acc: 0.7805\n",
            "\n",
            "Epoch 00007: val_acc improved from 0.73661 to 0.78051, saving model to best_model.pkl\n",
            "Epoch 8/50\n",
            "23/23 [==============================] - 0s 3ms/step - loss: 0.4258 - acc: 0.9565 - val_loss: 0.4662 - val_acc: 0.8569\n",
            "\n",
            "Epoch 00008: val_acc improved from 0.78051 to 0.85689, saving model to best_model.pkl\n",
            "Epoch 9/50\n",
            "23/23 [==============================] - 0s 2ms/step - loss: 0.3580 - acc: 0.9565 - val_loss: 0.4499 - val_acc: 0.9069\n",
            "\n",
            "Epoch 00009: val_acc improved from 0.85689 to 0.90694, saving model to best_model.pkl\n",
            "Epoch 10/50\n",
            "23/23 [==============================] - 0s 3ms/step - loss: 0.3192 - acc: 0.9565 - val_loss: 0.4208 - val_acc: 0.9675\n",
            "\n",
            "Epoch 00010: val_acc improved from 0.90694 to 0.96752, saving model to best_model.pkl\n",
            "Epoch 11/50\n",
            "23/23 [==============================] - 0s 3ms/step - loss: 0.2873 - acc: 1.0000 - val_loss: 0.4013 - val_acc: 0.9860\n",
            "\n",
            "Epoch 00011: val_acc improved from 0.96752 to 0.98595, saving model to best_model.pkl\n",
            "Epoch 12/50\n",
            "23/23 [==============================] - 0s 3ms/step - loss: 0.2537 - acc: 1.0000 - val_loss: 0.3880 - val_acc: 0.9816\n",
            "\n",
            "Epoch 00012: val_acc did not improve from 0.98595\n",
            "Epoch 13/50\n",
            "23/23 [==============================] - 0s 3ms/step - loss: 0.2406 - acc: 1.0000 - val_loss: 0.3802 - val_acc: 0.9658\n",
            "\n",
            "Epoch 00013: val_acc did not improve from 0.98595\n",
            "Epoch 14/50\n",
            "23/23 [==============================] - 0s 3ms/step - loss: 0.2321 - acc: 1.0000 - val_loss: 0.3744 - val_acc: 0.9464\n",
            "\n",
            "Epoch 00014: val_acc did not improve from 0.98595\n",
            "Epoch 15/50\n",
            "23/23 [==============================] - 0s 3ms/step - loss: 0.1907 - acc: 1.0000 - val_loss: 0.4177 - val_acc: 0.7735\n",
            "\n",
            "Epoch 00015: val_acc did not improve from 0.98595\n",
            "Epoch 16/50\n",
            "23/23 [==============================] - 0s 3ms/step - loss: 0.1669 - acc: 1.0000 - val_loss: 0.5094 - val_acc: 0.5382\n",
            "\n",
            "Epoch 00016: val_acc did not improve from 0.98595\n",
            "Epoch 17/50\n",
            "23/23 [==============================] - 0s 3ms/step - loss: 0.1542 - acc: 1.0000 - val_loss: 0.5111 - val_acc: 0.5356\n",
            "\n",
            "Epoch 00017: val_acc did not improve from 0.98595\n",
            "Epoch 18/50\n",
            "23/23 [==============================] - 0s 3ms/step - loss: 0.1351 - acc: 1.0000 - val_loss: 0.5201 - val_acc: 0.5329\n",
            "\n",
            "Epoch 00018: val_acc did not improve from 0.98595\n",
            "Epoch 19/50\n",
            "23/23 [==============================] - 0s 3ms/step - loss: 0.1137 - acc: 1.0000 - val_loss: 0.5144 - val_acc: 0.5391\n",
            "\n",
            "Epoch 00019: val_acc did not improve from 0.98595\n",
            "Epoch 20/50\n",
            "23/23 [==============================] - 0s 3ms/step - loss: 0.0922 - acc: 1.0000 - val_loss: 0.5924 - val_acc: 0.5092\n",
            "\n",
            "Epoch 00020: val_acc did not improve from 0.98595\n",
            "Epoch 21/50\n",
            "23/23 [==============================] - 0s 3ms/step - loss: 0.0823 - acc: 1.0000 - val_loss: 0.7575 - val_acc: 0.5004\n",
            "\n",
            "Epoch 00021: val_acc did not improve from 0.98595\n",
            "Epoch 22/50\n",
            "23/23 [==============================] - 0s 3ms/step - loss: 0.0730 - acc: 1.0000 - val_loss: 0.8352 - val_acc: 0.5004\n",
            "\n",
            "Epoch 00022: val_acc did not improve from 0.98595\n",
            "Epoch 23/50\n",
            "23/23 [==============================] - 0s 3ms/step - loss: 0.0597 - acc: 1.0000 - val_loss: 0.7737 - val_acc: 0.5004\n",
            "\n",
            "Epoch 00023: val_acc did not improve from 0.98595\n",
            "Epoch 24/50\n",
            "23/23 [==============================] - 0s 3ms/step - loss: 0.0602 - acc: 1.0000 - val_loss: 0.7641 - val_acc: 0.5004\n",
            "\n",
            "Epoch 00024: val_acc did not improve from 0.98595\n",
            "Epoch 25/50\n",
            "23/23 [==============================] - 0s 3ms/step - loss: 0.0476 - acc: 1.0000 - val_loss: 0.8933 - val_acc: 0.5004\n",
            "\n",
            "Epoch 00025: val_acc did not improve from 0.98595\n",
            "Epoch 26/50\n",
            "23/23 [==============================] - 0s 3ms/step - loss: 0.0413 - acc: 1.0000 - val_loss: 1.0796 - val_acc: 0.5004\n",
            "\n",
            "Epoch 00026: val_acc did not improve from 0.98595\n",
            "Epoch 27/50\n",
            "23/23 [==============================] - 0s 3ms/step - loss: 0.0371 - acc: 1.0000 - val_loss: 1.1276 - val_acc: 0.5004\n",
            "\n",
            "Epoch 00027: val_acc did not improve from 0.98595\n",
            "Epoch 28/50\n",
            "23/23 [==============================] - 0s 3ms/step - loss: 0.0306 - acc: 1.0000 - val_loss: 1.0476 - val_acc: 0.5004\n",
            "\n",
            "Epoch 00028: val_acc did not improve from 0.98595\n",
            "Epoch 29/50\n",
            "23/23 [==============================] - 0s 3ms/step - loss: 0.0277 - acc: 1.0000 - val_loss: 0.9890 - val_acc: 0.5004\n",
            "\n",
            "Epoch 00029: val_acc did not improve from 0.98595\n",
            "Epoch 30/50\n",
            "23/23 [==============================] - 0s 3ms/step - loss: 0.0239 - acc: 1.0000 - val_loss: 1.0220 - val_acc: 0.5004\n",
            "\n",
            "Epoch 00030: val_acc did not improve from 0.98595\n",
            "Epoch 31/50\n",
            "23/23 [==============================] - 0s 3ms/step - loss: 0.0216 - acc: 1.0000 - val_loss: 1.1114 - val_acc: 0.5004\n",
            "\n",
            "Epoch 00031: val_acc did not improve from 0.98595\n",
            "Epoch 32/50\n",
            "23/23 [==============================] - 0s 3ms/step - loss: 0.0196 - acc: 1.0000 - val_loss: 1.1991 - val_acc: 0.5004\n",
            "\n",
            "Epoch 00032: val_acc did not improve from 0.98595\n",
            "Epoch 33/50\n",
            "23/23 [==============================] - 0s 2ms/step - loss: 0.0181 - acc: 1.0000 - val_loss: 1.2364 - val_acc: 0.5004\n",
            "\n",
            "Epoch 00033: val_acc did not improve from 0.98595\n",
            "Epoch 34/50\n",
            "23/23 [==============================] - 0s 3ms/step - loss: 0.0162 - acc: 1.0000 - val_loss: 1.2066 - val_acc: 0.5004\n",
            "\n",
            "Epoch 00034: val_acc did not improve from 0.98595\n",
            "Epoch 35/50\n",
            "23/23 [==============================] - 0s 3ms/step - loss: 0.0132 - acc: 1.0000 - val_loss: 1.1829 - val_acc: 0.5004\n",
            "\n",
            "Epoch 00035: val_acc did not improve from 0.98595\n",
            "Epoch 36/50\n",
            "23/23 [==============================] - 0s 3ms/step - loss: 0.0147 - acc: 1.0000 - val_loss: 1.2121 - val_acc: 0.5004\n",
            "\n",
            "Epoch 00036: val_acc did not improve from 0.98595\n",
            "Epoch 37/50\n",
            "23/23 [==============================] - 0s 3ms/step - loss: 0.0123 - acc: 1.0000 - val_loss: 1.3189 - val_acc: 0.5004\n",
            "\n",
            "Epoch 00037: val_acc did not improve from 0.98595\n",
            "Epoch 38/50\n",
            "23/23 [==============================] - 0s 3ms/step - loss: 0.0116 - acc: 1.0000 - val_loss: 1.4083 - val_acc: 0.5004\n",
            "\n",
            "Epoch 00038: val_acc did not improve from 0.98595\n",
            "Epoch 39/50\n",
            "23/23 [==============================] - 0s 3ms/step - loss: 0.0103 - acc: 1.0000 - val_loss: 1.3978 - val_acc: 0.5004\n",
            "\n",
            "Epoch 00039: val_acc did not improve from 0.98595\n",
            "Epoch 40/50\n",
            "23/23 [==============================] - 0s 3ms/step - loss: 0.0103 - acc: 1.0000 - val_loss: 1.2378 - val_acc: 0.5004\n",
            "\n",
            "Epoch 00040: val_acc did not improve from 0.98595\n",
            "Epoch 41/50\n",
            "23/23 [==============================] - 0s 3ms/step - loss: 0.0105 - acc: 1.0000 - val_loss: 1.1099 - val_acc: 0.5013\n",
            "\n",
            "Epoch 00041: val_acc did not improve from 0.98595\n",
            "Epoch 42/50\n",
            "23/23 [==============================] - 0s 3ms/step - loss: 0.0080 - acc: 1.0000 - val_loss: 1.0596 - val_acc: 0.5022\n",
            "\n",
            "Epoch 00042: val_acc did not improve from 0.98595\n",
            "Epoch 43/50\n",
            "23/23 [==============================] - 0s 3ms/step - loss: 0.0082 - acc: 1.0000 - val_loss: 1.1017 - val_acc: 0.5013\n",
            "\n",
            "Epoch 00043: val_acc did not improve from 0.98595\n",
            "Epoch 44/50\n",
            "23/23 [==============================] - 0s 3ms/step - loss: 0.0073 - acc: 1.0000 - val_loss: 1.1817 - val_acc: 0.5013\n",
            "\n",
            "Epoch 00044: val_acc did not improve from 0.98595\n",
            "Epoch 45/50\n",
            "23/23 [==============================] - 0s 3ms/step - loss: 0.0068 - acc: 1.0000 - val_loss: 1.1844 - val_acc: 0.5013\n",
            "\n",
            "Epoch 00045: val_acc did not improve from 0.98595\n",
            "Epoch 46/50\n",
            "23/23 [==============================] - 0s 3ms/step - loss: 0.0064 - acc: 1.0000 - val_loss: 1.0909 - val_acc: 0.5040\n",
            "\n",
            "Epoch 00046: val_acc did not improve from 0.98595\n",
            "Epoch 47/50\n",
            "23/23 [==============================] - 0s 3ms/step - loss: 0.0069 - acc: 1.0000 - val_loss: 0.9137 - val_acc: 0.5189\n",
            "\n",
            "Epoch 00047: val_acc did not improve from 0.98595\n",
            "Epoch 48/50\n",
            "23/23 [==============================] - 0s 3ms/step - loss: 0.0064 - acc: 1.0000 - val_loss: 0.8037 - val_acc: 0.5364\n",
            "\n",
            "Epoch 00048: val_acc did not improve from 0.98595\n",
            "Epoch 49/50\n",
            "23/23 [==============================] - 0s 3ms/step - loss: 0.0053 - acc: 1.0000 - val_loss: 0.7587 - val_acc: 0.5514\n",
            "\n",
            "Epoch 00049: val_acc did not improve from 0.98595\n",
            "Epoch 50/50\n",
            "23/23 [==============================] - 0s 3ms/step - loss: 0.0053 - acc: 1.0000 - val_loss: 0.7906 - val_acc: 0.5452\n",
            "\n",
            "Epoch 00050: val_acc did not improve from 0.98595\n"
          ],
          "name": "stdout"
        }
      ]
    },
    {
      "cell_type": "code",
      "metadata": {
        "id": "msHuLz1ReUYa",
        "colab_type": "code",
        "outputId": "947200cc-46f7-41a3-d3d2-e377a65fb0e7",
        "colab": {
          "base_uri": "https://localhost:8080/",
          "height": 72
        }
      },
      "source": [
        "#loading the model and checking accuracy on the test data\n",
        "\n",
        "model = load_model('best_model.pkl')\n",
        "\n",
        "test_preds = [np.argmax(i) for i in model.predict(X_test)]\n",
        "y_test_res = [np.argmax(i) for i in y_test]\n",
        "test_accuracy = 100*np.sum(np.array(test_preds)==y_test_res)/len(test_preds)\n",
        "print('Accuracy of the model on test set:', test_accuracy)"
      ],
      "execution_count": 16,
      "outputs": [
        {
          "output_type": "stream",
          "text": [
            "WARNING:tensorflow:Large dropout rate: 0.8 (>0.5). In TensorFlow 2.x, dropout() uses dropout rate instead of keep_prob. Please ensure that this is intended.\n",
            "Accuracy of the model on test set: 100.0\n"
          ],
          "name": "stdout"
        }
      ]
    },
    {
      "cell_type": "code",
      "metadata": {
        "id": "0hIJvpuQWuXc",
        "colab_type": "code",
        "outputId": "5447a90d-b32d-46ac-9d98-408186928c9b",
        "colab": {
          "base_uri": "https://localhost:8080/",
          "height": 573
        }
      },
      "source": [
        "# summarize history for accuracy\n",
        "plt.plot(history.history['acc'])\n",
        "plt.plot(history.history['val_acc'])\n",
        "plt.title('model accuracy')\n",
        "plt.ylabel('accuracy')\n",
        "plt.xlabel('epoch')\n",
        "plt.legend(['train', 'validation'], loc='upper left')\n",
        "plt.show()\n",
        "\n",
        "# summarize history for loss\n",
        "plt.plot(history.history['loss'])\n",
        "plt.plot(history.history['val_loss'])\n",
        "plt.title('model loss')\n",
        "plt.ylabel('loss')\n",
        "plt.xlabel('epoch')\n",
        "plt.legend(['train', 'validation'], loc='upper left')\n",
        "plt.show()"
      ],
      "execution_count": 0,
      "outputs": [
        {
          "output_type": "display_data",
          "data": {
            "image/png": "[encoded data removed]",
            "text/plain": [
              "<Figure size 432x288 with 1 Axes>"
            ]
          },
          "metadata": {
            "tags": []
          }
        },
        {
          "output_type": "display_data",
          "data": {
            "image/png": "[encoded data removed]",
            "text/plain": [
              "<Figure size 432x288 with 1 Axes>"
            ]
          },
          "metadata": {
            "tags": []
          }
        }
      ]
    }
  ]
}
